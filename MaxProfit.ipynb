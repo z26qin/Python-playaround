{
 "cells": [
  {
   "cell_type": "markdown",
   "id": "85f4017b-cbd1-4a60-bef0-5c99368e3daf",
   "metadata": {},
   "source": [
    "Problem\n",
    "You've been given a list of historical stock prices for a single day for Amazon stock. The index of the list represents the timestamp, so the element at index of 0 is the initial price of the stock, the element at index 1 is the next recorded price of the stock for that day, etc. Your task is to write a function that will return the maximum profit possible from the purchase and sale of a single share of Amazon stock on that day. Keep in mind to try to make this as efficient as possible.\n",
    "\n",
    "For example, if you were given the list of stock prices:\n",
    "\n",
    "prices = [12,11,15,3,10]\n",
    "\n",
    "Then your function would return the maximum possible profit, which would be 7 (buying at 3 and selling at 10).\n",
    "\n",
    "Requirement\n",
    "\n",
    "you can't \"short\" a stock, you must buy before you sell the stock.\n",
    "\n"
   ]
  },
  {
   "cell_type": "markdown",
   "id": "162d11a2-314e-4e0f-8556-eef6de0f60f2",
   "metadata": {},
   "source": [
    "Solution\n",
    "Let's think about a few things before we start coding. One thing to think about right off the bat is that we can't just find the maximum price and the lowest price and then subtract the two, because the max could come before the min.\n",
    "\n",
    "The brute force method would be to try every possible pair of price combinations, but this would be O(N^2), pretty bad. Also since this is an interview setting you should probably already know that there is a smarter solution.\n",
    "\n",
    "In this case we will use a greedy algorithm approach. We will iterate through the list of stock prices while keeping track of our maximum profit.\n",
    "\n",
    "That means for every price we will keep track of the lowest price so far and then check if we can get a better profit than our current max.\n",
    "\n",
    "Let's see an implementation of this:"
   ]
  },
  {
   "cell_type": "code",
   "execution_count": 1,
   "id": "9fb575aa-6cc6-4fab-a961-f998fcc84670",
   "metadata": {},
   "outputs": [],
   "source": [
    "#implementation 1\n",
    "def profit(stock_prices):\n",
    "    \n",
    "    # Start minimum price marker at first price\n",
    "    min_stock_price = stock_prices[0]\n",
    "    \n",
    "    # Start off with a profit of zero\n",
    "    max_profit = 0\n",
    "    \n",
    "    for price in stock_prices:\n",
    "        \n",
    "        # Check to set the lowest stock price so far\n",
    "        min_stock_price = min(min_stock_price,price)\n",
    "        \n",
    "        # Check the current price against our minimum for a profit \n",
    "        # comparison against the max_profit\n",
    "        comparison_profit = price - min_stock_price\n",
    "        \n",
    "        # Compare against our max_profit so far\n",
    "        max_profit = max(max_profit,comparison_profit)\n",
    "        \n",
    "    return max_profit"
   ]
  },
  {
   "cell_type": "code",
   "execution_count": 2,
   "id": "140c23cc-f68f-4574-9e81-aa3626701651",
   "metadata": {},
   "outputs": [
    {
     "data": {
      "text/plain": [
       "39"
      ]
     },
     "execution_count": 2,
     "metadata": {},
     "output_type": "execute_result"
    }
   ],
   "source": [
    "profit([10,12,14,12,13,11,8,7,6,13,23,45,11,10])"
   ]
  },
  {
   "cell_type": "markdown",
   "id": "20352369-5ba7-4a5e-a4f4-1a58cc396702",
   "metadata": {},
   "source": [
    "Currently we're finding the max profit in one pass O(n) and in constant space O(1). However, we still aren't thinking about any edge cases. For example, we need to address the following scenarios:\n",
    "\n",
    "Stock price always goes down\n",
    "If there's less than two stock prices in the list.\n",
    "We can take care of the first scenario by returning a negative profit if the price decreases all day (that way we can know how much we lost). And the second issue can be solved with a quick len() check. Let's see the full solution:"
   ]
  },
  {
   "cell_type": "code",
   "execution_count": 3,
   "id": "ff732fd2-f68a-4a16-aade-41c6dbfa5f63",
   "metadata": {},
   "outputs": [],
   "source": [
    "def profit2(stock_prices):\n",
    "    \n",
    "    # Check length\n",
    "    if len(stock_prices) < 2:\n",
    "        raise Exception('Need at least two stock prices!')\n",
    "    \n",
    "    # Start minimum price marker at first price\n",
    "    min_stock_price = stock_prices[0]\n",
    "    \n",
    "    # Start off with an initial max profit\n",
    "    max_profit = stock_prices[1] - stock_prices[0]\n",
    "    \n",
    "    # Skip first index of 0\n",
    "    for price in stock_prices[1:]:\n",
    "        \n",
    "        \n",
    "        # NOTE THE REORDERING HERE DUE TO THE NEGATIVE PROFIT TRACKING\n",
    "        \n",
    "        # Check the current price against our minimum for a profit \n",
    "        # comparison against the max_profit\n",
    "        comparison_profit = price - min_stock_price\n",
    "        \n",
    "        # Compare against our max_profit so far\n",
    "        max_profit = max(max_profit,comparison_profit)\n",
    "        \n",
    "        # Check to set the lowest stock price so far\n",
    "        min_stock_price = min(min_stock_price,price)\n",
    "        \n",
    "        \n",
    "        \n",
    "        \n",
    "        \n",
    "    return max_profit"
   ]
  },
  {
   "cell_type": "code",
   "execution_count": 4,
   "id": "a4477482-f6b7-4912-9459-d779fcb4fb8c",
   "metadata": {},
   "outputs": [
    {
     "data": {
      "text/plain": [
       "-1"
      ]
     },
     "execution_count": 4,
     "metadata": {},
     "output_type": "execute_result"
    }
   ],
   "source": [
    "profit2([30,22,21,5])"
   ]
  },
  {
   "cell_type": "code",
   "execution_count": 5,
   "id": "6deb2959-6a0c-4910-a7cb-145674cc42e6",
   "metadata": {},
   "outputs": [
    {
     "name": "stdout",
     "output_type": "stream",
     "text": [
      "0\n"
     ]
    }
   ],
   "source": [
    "#implementation 2\n",
    "def max_profit(prices,days):\n",
    "    profit = 0\n",
    "    if days<=2:\n",
    "        raise Exception('Need at least two stock prices!')\n",
    "    \n",
    "    for i in range(1, days):\n",
    " \n",
    "        # checks if elements are adjacent and in increasing order\n",
    "        if prices[i] > prices[i-1]:\n",
    " \n",
    "            # difference added to 'profit'\n",
    "            profit += prices[i] - prices[i-1]\n",
    " \n",
    "    return profit\n",
    "\n",
    "print(max_profit([30,22,21,5],len([30,22,21,5])))"
   ]
  },
  {
   "cell_type": "code",
   "execution_count": 7,
   "id": "9f566974-b8da-4db1-8b5e-e5c9c3ea19cb",
   "metadata": {},
   "outputs": [
    {
     "name": "stdout",
     "output_type": "stream",
     "text": [
      "-1\n"
     ]
    }
   ],
   "source": [
    "#implementation 3\n",
    "# Instead of creating an auxiliary array, we can calculate diff and max sum in same loop. Following is the space optimized version.\n",
    "def maxDiff2(arr, n):\n",
    "    diff = [0] * (n - 1)\n",
    "    for i in range (0, n-1):\n",
    "        diff[i] = arr[i+1] - arr[i]\n",
    "         \n",
    "    # Now find the maximum sum\n",
    "    # subarray in diff array   \n",
    "    max_diff = diff[0]\n",
    "    for i in range(1, n-1):\n",
    "        if (diff[i-1] > 0):\n",
    "            diff[i] += diff[i-1]\n",
    "     \n",
    "        if (max_diff < diff[i]):\n",
    "            max_diff = diff[i]\n",
    "     \n",
    "    return max_diff\n",
    " \n",
    "print(maxDiff2([30,22,21,5],len([30,22,21,5])))"
   ]
  },
  {
   "cell_type": "code",
   "execution_count": 9,
   "id": "5f096a3c-8c7c-434c-beb2-843bc1025267",
   "metadata": {},
   "outputs": [
    {
     "name": "stdout",
     "output_type": "stream",
     "text": [
      "99\n"
     ]
    }
   ],
   "source": [
    "#implementation4\n",
    "def maxDiff(arr):\n",
    "    max_diff=arr[1]-arr[0]\n",
    "    min_element=arr[0]\n",
    "    for i in range(1,len(arr)):\n",
    "        if  (arr[i]-min_element>max_diff):\n",
    "            max_diff=arr[i]-min_element\n",
    "        if arr[i]<min_element:\n",
    "            min_element=arr[i]\n",
    "    return max_diff\n",
    "arr1 = [1, 2, 6, 80, 100]\n",
    "print(maxDiff(arr1))"
   ]
  },
  {
   "cell_type": "code",
   "execution_count": null,
   "id": "0caecc91-add3-434d-b60c-eae7b9a99da9",
   "metadata": {},
   "outputs": [],
   "source": []
  }
 ],
 "metadata": {
  "kernelspec": {
   "display_name": "Python 3",
   "language": "python",
   "name": "python3"
  },
  "language_info": {
   "codemirror_mode": {
    "name": "ipython",
    "version": 3
   },
   "file_extension": ".py",
   "mimetype": "text/x-python",
   "name": "python",
   "nbconvert_exporter": "python",
   "pygments_lexer": "ipython3",
   "version": "3.8.8"
  }
 },
 "nbformat": 4,
 "nbformat_minor": 5
}
