{
 "cells": [
  {
   "cell_type": "markdown",
   "id": "303e5973-06f2-447f-b69b-53c564f7ffd9",
   "metadata": {},
   "source": [
    "Python Program for n-th Fibonacci number\n",
    "\n",
    "\n",
    "\n",
    "recursion\n"
   ]
  },
  {
   "cell_type": "code",
   "execution_count": 3,
   "id": "88756bbf-d7c1-4436-b14e-473453f4f685",
   "metadata": {},
   "outputs": [
    {
     "name": "stdout",
     "output_type": "stream",
     "text": [
      "34\n"
     ]
    }
   ],
   "source": [
    "def fib1(n):\n",
    "    if n<0:\n",
    "        print(\"incorrect input\")\n",
    "    elif n==1:\n",
    "        return 0\n",
    "    elif n==2 :\n",
    "        return 1\n",
    "    else:\n",
    "        return fib(n-1)+fib(n-2)\n",
    "    \n",
    "print(fib1(10))"
   ]
  },
  {
   "cell_type": "markdown",
   "id": "470c1b6a-b1c8-4816-8337-c3aa65ca1d16",
   "metadata": {},
   "source": [
    "Dynamic Programming\n",
    "\n",
    "Function for nth fibonacci number - Dynamic Programming\n",
    "\n",
    "Tips：Taking 1st two fibonacci numbers as 0 and 1"
   ]
  },
  {
   "cell_type": "code",
   "execution_count": 4,
   "id": "b01b4fb8-c0c3-4452-b977-1ee261c41b6f",
   "metadata": {},
   "outputs": [
    {
     "data": {
      "text/plain": [
       "34"
      ]
     },
     "execution_count": 4,
     "metadata": {},
     "output_type": "execute_result"
    }
   ],
   "source": [
    "FibArray = [0, 1]\n",
    "def fib2(n):\n",
    "    if n<0:\n",
    "        print(\"incorrect input\")\n",
    "    elif  n<= len(FibArray):\n",
    "        return FibArray[n-1]\n",
    "    else:\n",
    "        temp_fib = fib1(n-1)+fib1(n-2)\n",
    "        FibArray.append(temp_fib)\n",
    "        return temp_fib\n",
    "fib2(10)"
   ]
  },
  {
   "cell_type": "markdown",
   "id": "d9d65f3a-20a3-46a2-8a0a-c63684b624a0",
   "metadata": {},
   "source": [
    "#Method 3 ( Use Dynamic Programming with Space Optimization) : "
   ]
  },
  {
   "cell_type": "code",
   "execution_count": 6,
   "id": "39df237d-4ae9-49df-af74-0ff28769aad4",
   "metadata": {},
   "outputs": [
    {
     "data": {
      "text/plain": [
       "218922995834555169026"
      ]
     },
     "execution_count": 6,
     "metadata": {},
     "output_type": "execute_result"
    }
   ],
   "source": [
    "def fib3(n):\n",
    "    a = 0\n",
    "    b = 1\n",
    "    if n < 0:\n",
    "        print(\"Incorrect input\")\n",
    "    elif n == 0:\n",
    "        return a\n",
    "    elif n == 1:\n",
    "        return b\n",
    "    else:\n",
    "        for i in range(2, n):\n",
    "            c = a + b\n",
    "            a = b\n",
    "            b = c\n",
    "        return b\n",
    "fib3(100)"
   ]
  },
  {
   "cell_type": "code",
   "execution_count": null,
   "id": "38acfbdb-9bca-4f30-8e8b-dee3501f9536",
   "metadata": {},
   "outputs": [],
   "source": []
  }
 ],
 "metadata": {
  "kernelspec": {
   "display_name": "Python 3",
   "language": "python",
   "name": "python3"
  },
  "language_info": {
   "codemirror_mode": {
    "name": "ipython",
    "version": 3
   },
   "file_extension": ".py",
   "mimetype": "text/x-python",
   "name": "python",
   "nbconvert_exporter": "python",
   "pygments_lexer": "ipython3",
   "version": "3.8.8"
  }
 },
 "nbformat": 4,
 "nbformat_minor": 5
}
